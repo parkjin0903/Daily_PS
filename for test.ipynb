{
 "cells": [
  {
   "cell_type": "code",
   "execution_count": 2,
   "metadata": {},
   "outputs": [
    {
     "name": "stdout",
     "output_type": "stream",
     "text": [
      "deque([1])\n",
      "deque([2, 4])\n",
      "deque([4, 3])\n",
      "deque([3])\n",
      "1\n",
      "2\n",
      "4\n",
      "3\n",
      "0\n"
     ]
    }
   ],
   "source": [
    "# 24444\n",
    "#import sys\n",
    "from collections import deque\n",
    "#input = sys.stdin.readline\n",
    "\n",
    "N, M, R = map(int, input().split())\n",
    "graph = [[] for _ in range(N+1)]\n",
    "visited = [0] * (N+1)\n",
    "count = 1\n",
    "\n",
    "\n",
    "for _ in range(M):\n",
    "    a, b = map(int, input().split())\n",
    "    graph[a].append(b)\n",
    "    graph[b].append(a)\n",
    "\n",
    "def bfs(graph, start, visited):\n",
    "    global count    \n",
    "    queue = deque([start])\n",
    "    visited[start] = count\n",
    "\n",
    "    while queue:\n",
    "        print(queue)\n",
    "        v = queue.popleft()\n",
    "        graph[v].sort()\n",
    "        for i in graph[v]:\n",
    "            if visited[i] == 0:\n",
    "                queue.append(i)\n",
    "                count += 1\n",
    "                visited[i] = count\n",
    "\n",
    "bfs(graph, 1, visited)\n",
    "\n",
    "for i in range(1, N+1):\n",
    "    print(visited[i])\n"
   ]
  },
  {
   "cell_type": "code",
   "execution_count": null,
   "metadata": {},
   "outputs": [],
   "source": [
    "import torch\n",
    "import torchvision\n",
    "import torchvision.transforms as tr\n",
    "from torch.utils.data import DataLoader, Dataset\n",
    "\n",
    "transf = tr.Compose([tr.Resize(16),tr.ToTensor()])\n",
    "\n",
    "\n",
    "print(trainset[0][0].size())\n",
    "\n",
    "from torch.utils.data import DataLoader, Dataset\n",
    "testloader = Dataloader(testset, batch_size=50, shuffle=True)"
   ]
  }
 ],
 "metadata": {
  "interpreter": {
   "hash": "b3ba2566441a7c06988d0923437866b63cedc61552a5af99d1f4fb67d367b25f"
  },
  "kernelspec": {
   "display_name": "Python 3.9.7 ('base')",
   "language": "python",
   "name": "python3"
  },
  "language_info": {
   "codemirror_mode": {
    "name": "ipython",
    "version": 3
   },
   "file_extension": ".py",
   "mimetype": "text/x-python",
   "name": "python",
   "nbconvert_exporter": "python",
   "pygments_lexer": "ipython3",
   "version": "3.9.7"
  },
  "orig_nbformat": 4
 },
 "nbformat": 4,
 "nbformat_minor": 2
}
